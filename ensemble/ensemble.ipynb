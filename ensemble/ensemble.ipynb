{
 "cells": [
  {
   "cell_type": "code",
   "execution_count": 62,
   "metadata": {},
   "outputs": [],
   "source": [
    "import pandas as pd\n",
    "import numpy as np\n",
    "from pycocotools.coco import COCO\n",
    "import os\n",
    "import cv2\n",
    "import json\n",
    "import skimage.io as io\n",
    "import matplotlib.pyplot as plt\n",
    "import matplotlib.patches as patches\n",
    "from wbf_ensemble import *"
   ]
  },
  {
   "cell_type": "code",
   "execution_count": 63,
   "metadata": {},
   "outputs": [],
   "source": [
    "test_folder = '/data/ephemeral/home/data/medical/img/test/'\n",
    "get_img_files = os.listdir(test_folder)\n",
    "if get_img_files[-1].startswith('.'):  # '.'으로 시작하는 파일 제거용\n",
    "    get_img_files.pop(-1)"
   ]
  },
  {
   "cell_type": "code",
   "execution_count": 64,
   "metadata": {},
   "outputs": [
    {
     "data": {
      "text/plain": [
       "100"
      ]
     },
     "execution_count": 64,
     "metadata": {},
     "output_type": "execute_result"
    }
   ],
   "source": [
    "len(get_img_files)"
   ]
  },
  {
   "cell_type": "code",
   "execution_count": 65,
   "metadata": {},
   "outputs": [],
   "source": [
    "coco_data = {\n",
    "        \"images\": [],\n",
    "        \"annotations\": [],\n",
    "        \"categories\": [{\"id\": 1, \"name\": \"text\"}],    # 이부분은 비워놔도 됨(only text)\n",
    "}\n",
    "\n",
    "for i, test_file in enumerate(get_img_files):\n",
    "    img = cv2.imread(test_folder+test_file)\n",
    "    h, w, c = img.shape\n",
    "    coco_image = {\n",
    "            \"id\": i,\n",
    "            \"width\": w,\n",
    "            \"height\": h,\n",
    "            \"file_name\": test_file,\n",
    "            \"license\": 0, \n",
    "            \"flickr_url\": None, \n",
    "            \"coco_url\": None, \n",
    "            \"date_captured\": None\n",
    "    }\n",
    "    coco_data[\"images\"].append(coco_image)\n",
    "\n",
    "with open('/data/ephemeral/home/data/medical/output_ensemble/test.json', 'w') as f:\n",
    "    json.dump(coco_data, f)"
   ]
  },
  {
   "cell_type": "code",
   "execution_count": 66,
   "metadata": {},
   "outputs": [],
   "source": [
    "submission_files = []\n",
    "for file_name in os.listdir('/data/ephemeral/home/data/medical/ensemble/json'): # 앙상블 파일\n",
    "    if file_name.startswith('.'):\n",
    "        continue\n",
    "    submission_files.append(file_name)"
   ]
  },
  {
   "cell_type": "code",
   "execution_count": 67,
   "metadata": {},
   "outputs": [
    {
     "data": {
      "text/plain": [
       "['36.json', '38.json', '39.json', '33.json']"
      ]
     },
     "execution_count": 67,
     "metadata": {},
     "output_type": "execute_result"
    }
   ],
   "source": [
    "submission_files         "
   ]
  },
  {
   "cell_type": "code",
   "execution_count": 69,
   "metadata": {},
   "outputs": [
    {
     "name": "stdout",
     "output_type": "stream",
     "text": [
      "loading annotations into memory...\n",
      "Done (t=0.00s)\n",
      "creating index...\n",
      "index created!\n"
     ]
    }
   ],
   "source": [
    "annotation = '/data/ephemeral/home/data/medical/output_ensemble/test.json'\n",
    "coco = COCO(annotation)\n",
    "\n",
    "iou_thr = 0.5            # TODO : iou threshold 설정\n",
    "skip_box_thr = 0.0001    # TODO : skip iou threshold 설정 0.0001\n",
    "\n",
    "weight = [1.0, 1.0, 2.0, 1.0]\n",
    "\n",
    "images_anno = {}\n",
    "for i, test_file in enumerate(get_img_files):\n",
    "    boxes_list = []\n",
    "    scores_list = []\n",
    "    labels_list = []\n",
    "    image_info = coco.loadImgs(i)[0]\n",
    "    \n",
    "    for j, submission in enumerate(submission_files):\n",
    "        with open('/data/ephemeral/home/data/medical/ensemble/json/'+submission, 'r') as f:\n",
    "            data = json.load(f)\n",
    "            images = data['images']\n",
    "        words = images[image_info['file_name']]\n",
    "        box_list = []\n",
    "        for word_id, word_data in words[\"words\"].items():\n",
    "            # UFO to PascalVOC format\n",
    "            [tl, tr, br, bl] = word_data[\"points\"]\n",
    "            xmin = min(tl[0], tr[0], br[0], bl[0])\n",
    "            ymin = min(tl[1], tr[1], br[1], bl[1])\n",
    "            xmax = max(tl[0], tr[0], br[0], bl[0])\n",
    "            ymax = max(tl[1], tr[1], br[1], bl[1])\n",
    "            box = [xmin/image_info['width'], ymin/image_info['height'], xmax/image_info['width'], ymax/image_info['height']]\n",
    "            box_list.append(box)\n",
    "        boxes_list.append(box_list)\n",
    "        scores_list.append([weight[j]]*len(words[\"words\"].items()))\n",
    "        labels_list.append([1]*len(words[\"words\"].items()))\n",
    "\n",
    "    if len(boxes_list):\n",
    "        boxes, scores, labels = weighted_boxes_fusion(boxes_list, scores_list, labels_list, iou_thr=iou_thr, skip_box_thr=skip_box_thr)\n",
    "        prediction_words = []\n",
    "        points_list = []\n",
    "        for idx, (box, score, label) in enumerate(zip(boxes, scores, labels)):\n",
    "            # PascalVOC to UFO format\n",
    "            p_xmin = box[0]*image_info['width']\n",
    "            p_ymin = box[1]*image_info['height']\n",
    "            p_xmax = box[2]*image_info['width']\n",
    "            p_ymax = box[3]*image_info['height']\n",
    "            p_width = p_xmax - p_xmin\n",
    "            p_height = p_ymax - p_ymin\n",
    "            p_tl = [p_xmin, p_ymin]\n",
    "            p_tr = [p_xmin + p_width, p_ymin]\n",
    "            p_br = [p_xmin + p_width, p_ymin + p_height]\n",
    "            p_bl = [p_xmin, p_ymin + p_height]\n",
    "            points = [p_tl, p_tr, p_br, p_bl]\n",
    "            points_list.append(points)\n",
    "        prediction_words = {idx: dict(points=p) for idx, p in enumerate(points_list)}\n",
    "    images_anno[image_info['file_name']] = dict(words=prediction_words)\n",
    "\n",
    "images_anno = {'images':images_anno}\n",
    "\n",
    "# 제출용 : csv 파일로 바로 변경\n",
    "with open('result.csv', 'w') as f:  \n",
    "    json.dump(images_anno, f, indent=4)"
   ]
  },
  {
   "cell_type": "code",
   "execution_count": null,
   "metadata": {},
   "outputs": [],
   "source": []
  }
 ],
 "metadata": {
  "kernelspec": {
   "display_name": "Python 3 (ipykernel)",
   "language": "python",
   "name": "python3"
  },
  "language_info": {
   "codemirror_mode": {
    "name": "ipython",
    "version": 3
   },
   "file_extension": ".py",
   "mimetype": "text/x-python",
   "name": "python",
   "nbconvert_exporter": "python",
   "pygments_lexer": "ipython3",
   "version": "3.8.5"
  }
 },
 "nbformat": 4,
 "nbformat_minor": 4
}
